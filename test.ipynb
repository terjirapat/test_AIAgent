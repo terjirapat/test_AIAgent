{
 "cells": [
  {
   "cell_type": "code",
   "execution_count": 1,
   "id": "c3173f21",
   "metadata": {},
   "outputs": [],
   "source": [
    "%load_ext autoreload\n",
    "%autoreload 2"
   ]
  },
  {
   "cell_type": "code",
   "execution_count": 4,
   "id": "45996949",
   "metadata": {},
   "outputs": [],
   "source": [
    "from package.model.main import ModelManager, GeminiRunner"
   ]
  },
  {
   "cell_type": "code",
   "execution_count": 27,
   "id": "802a4992",
   "metadata": {},
   "outputs": [
    {
     "data": {
      "text/plain": [
       "Prompt(model_name='gemini-2.5-flash', system_prompt='you are the unhelpful assistance.', temperature=0)"
      ]
     },
     "execution_count": 27,
     "metadata": {},
     "output_type": "execute_result"
    }
   ],
   "source": [
    "from package.prompt.prompts import TEST_PROMPT\n",
    "\n",
    "TEST_PROMPT"
   ]
  },
  {
   "cell_type": "code",
   "execution_count": 22,
   "id": "bef6c9b3",
   "metadata": {},
   "outputs": [],
   "source": [
    "model_manager = ModelManager()\n",
    "model_manager.register_runner(model_name='gemini-2.5-flash', runner=GeminiRunner())"
   ]
  },
  {
   "cell_type": "code",
   "execution_count": 28,
   "id": "56ef5447",
   "metadata": {},
   "outputs": [],
   "source": [
    "response = model_manager.run(prompt=TEST_PROMPT, user_prompt='I want to eat pizza')"
   ]
  },
  {
   "cell_type": "code",
   "execution_count": 30,
   "id": "4f722b80",
   "metadata": {},
   "outputs": [
    {
     "name": "stdout",
     "output_type": "stream",
     "text": [
      "Okay. You want to eat pizza. That's a desire you've just communicated.\n"
     ]
    }
   ],
   "source": [
    "print(response)"
   ]
  }
 ],
 "metadata": {
  "kernelspec": {
   "display_name": "dev_agenticai",
   "language": "python",
   "name": "python3"
  },
  "language_info": {
   "codemirror_mode": {
    "name": "ipython",
    "version": 3
   },
   "file_extension": ".py",
   "mimetype": "text/x-python",
   "name": "python",
   "nbconvert_exporter": "python",
   "pygments_lexer": "ipython3",
   "version": "3.13.5"
  }
 },
 "nbformat": 4,
 "nbformat_minor": 5
}
